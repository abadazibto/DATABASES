{
  "nbformat": 4,
  "nbformat_minor": 0,
  "metadata": {
    "colab": {
      "provenance": [],
      "authorship_tag": "ABX9TyPQQT5IA0MJiS2dNcb5RJ+6",
      "include_colab_link": true
    },
    "kernelspec": {
      "name": "python3",
      "display_name": "Python 3"
    },
    "language_info": {
      "name": "python"
    }
  },
  "cells": [
    {
      "cell_type": "markdown",
      "metadata": {
        "id": "view-in-github",
        "colab_type": "text"
      },
      "source": [
        "<a href=\"https://colab.research.google.com/github/abadazibto/DATABASES/blob/main/DATA_STRUCTURE.ipynb\" target=\"_parent\"><img src=\"https://colab.research.google.com/assets/colab-badge.svg\" alt=\"Open In Colab\"/></a>"
      ]
    },
    {
      "cell_type": "markdown",
      "source": [
        "QUESTION 1:\n",
        "\n",
        "Write a Python program that multiplies all the items in a list."
      ],
      "metadata": {
        "id": "aI1kfolKmB-m"
      }
    },
    {
      "cell_type": "code",
      "source": [
        "sample_list = [2, 3, 6]\n",
        "result = 1\n",
        "for items in sample_list:\n",
        "    result = items * result\n",
        "    print(f\"The result of the multiplication of the items in sample_list is result\")"
      ],
      "metadata": {
        "id": "fAPAk8v4mOK2"
      },
      "execution_count": null,
      "outputs": []
    },
    {
      "cell_type": "markdown",
      "source": [
        "QUESTION 2:\n",
        "\n",
        "Write a Python program to get a list, sorted in increasing order by the last element in each tuple, from a given list of non-empty tuples."
      ],
      "metadata": {
        "id": "s9VZyc8RmAye"
      }
    },
    {
      "cell_type": "code",
      "source": [
        "sample_list = [(2, 5), (1, 2), (4, 4), (2, 3), (2, 1)]\n",
        "sorted_list = sorted(sample_list, key=lambda x: x[-1])\n",
        "print(\"Sorted list:\", sorted_list)"
      ],
      "metadata": {
        "id": "QozxSxKumXGR"
      },
      "execution_count": null,
      "outputs": []
    },
    {
      "cell_type": "markdown",
      "source": [
        "QUESTION 3:\n",
        "\n",
        "Write a Python program that combines two dictionaries by adding values for common keys."
      ],
      "metadata": {
        "id": "n1l5tyaAmbsc"
      }
    },
    {
      "cell_type": "code",
      "source": [
        "d1 = {'a': 100, 'b': 200, 'c': 300}\n",
        "d2 = {'a': 300, 'b': 200, 'd': 400}\n",
        "\n",
        "combined = d1.copy()\n",
        "for key, value in d2.items():\n",
        "    if key in combined:\n",
        "        combined[key] += value\n",
        "    else:\n",
        "        combined[key] = value\n",
        "print(\"Combined dictionary:\", combined)\n"
      ],
      "metadata": {
        "id": "QQm5CbQcmhsH"
      },
      "execution_count": null,
      "outputs": []
    },
    {
      "cell_type": "markdown",
      "source": [
        "QUESTION 4:\n",
        "With a given integral number n, write a program to generate a dictionary that contains (i, i*i) so that is an integral number between 1 and n (both included). Then the program should print the dictionary. Suppose the following input is supplied to the program: 8. Then, the output should be: {1: 1, 2: 4, 3: 9, 4: 16, 5: 25, 6: 36, 7: 49, 8: 64}"
      ],
      "metadata": {
        "id": "kwwBT92Qmns4"
      }
    },
    {
      "cell_type": "code",
      "source": [
        "n = int(input(\"Enter an integer: \"))\n",
        "squares_dict = {i: i * i for i in range(1, n + 1)}\n",
        "print(squares_dict)\n"
      ],
      "metadata": {
        "id": "LTgOggy0mvNH"
      },
      "execution_count": null,
      "outputs": []
    },
    {
      "cell_type": "markdown",
      "source": [
        "QUESTION 5:\n",
        "Write a program to sort a tuple by its float element."
      ],
      "metadata": {
        "id": "9G5tp4h8m4eH"
      }
    },
    {
      "cell_type": "code",
      "source": [
        "list1 = [('item1', '12.20'), ('item2', '15.10'), ('item3', '24.5')]\n",
        "sorted_list = sorted(list1, key=lambda x: float(x[1]), reverse=True)\n",
        "print(\"Sorted list:\", sorted_list)"
      ],
      "metadata": {
        "id": "Hazi6dSWm8p0"
      },
      "execution_count": null,
      "outputs": []
    },
    {
      "cell_type": "markdown",
      "source": [
        "QUESTION 6:\n",
        "\n",
        "Write a Python program to create a set.\n",
        "Examples : {0, 1, 2, 3, 4}\n",
        "\n",
        "Write a Python program to iteration over sets.\n",
        "\n",
        "Write a Python program to add members in a set and to remove items from a given set."
      ],
      "metadata": {
        "id": "GNIKvPlLnDat"
      }
    },
    {
      "cell_type": "code",
      "source": [
        "#1. Creating a set with numbers from 0 to 4\n",
        "my_set = {0, 1, 2, 3, 4}\n",
        "print(\"Created set:\", my_set)\n",
        "\n",
        "#2, Iterating over the set\n",
        "print(\"Iterating over the set:\")\n",
        "for item in my_set:\n",
        "    print(item)\n",
        "\n",
        "#3. Add members to the set\n",
        "my_set.add(5)\n",
        "my_set.update([6, 7])  # Add multiple elements\n",
        "print(\"Set after adding elements:\", my_set)\n",
        "\n",
        "#4. Remove items from the set\n",
        "my_set.remove(2)  # Removes 2; raises error if not found\n",
        "my_set.discard(10)  # Safe remove; does nothing if 10 not found\n",
        "print(\"Set after removing elements:\", my_set)"
      ],
      "metadata": {
        "id": "P_qkrtwbnMeG"
      },
      "execution_count": null,
      "outputs": []
    }
  ]
}